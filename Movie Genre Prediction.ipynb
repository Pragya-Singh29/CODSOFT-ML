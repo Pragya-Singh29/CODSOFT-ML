{
 "cells": [
  {
   "cell_type": "code",
   "execution_count": 8,
   "id": "155bce33-c42f-43df-ab17-254182cded7a",
   "metadata": {},
   "outputs": [],
   "source": [
    "import pandas as pd\n",
    "from sklearn.feature_extraction.text import TfidfVectorizer\n",
    "from sklearn.model_selection import train_test_split\n",
    "from sklearn.linear_model import LogisticRegression\n",
    "from sklearn.naive_bayes import MultinomialNB\n",
    "from sklearn.svm import SVC\n",
    "from sklearn.metrics import accuracy_score\n",
    "import re\n",
    "import string"
   ]
  },
  {
   "cell_type": "code",
   "execution_count": 9,
   "id": "74a51294-777b-4fef-a259-516a884fe63d",
   "metadata": {},
   "outputs": [],
   "source": [
    "# Function to preprocess text\n",
    "def preprocess_text(text):\n",
    "    text = text.lower()  # Convert to lowercase\n",
    "    text = re.sub(f'[{re.escape(string.punctuation)}]', '', text)  # Remove punctuation\n",
    "    text = re.sub(r'\\d+', '', text)  # Remove numbers\n",
    "    text = re.sub(r'\\s+', ' ', text).strip()  # Remove extra whitespace\n",
    "    return text"
   ]
  },
  {
   "cell_type": "code",
   "execution_count": 10,
   "id": "20d4946f-d493-4201-8742-d12c30686515",
   "metadata": {},
   "outputs": [],
   "source": [
    "# Load and preprocess training data\n",
    "train_data = []\n",
    "with open('train_data.txt', 'r', encoding='utf-8') as file:\n",
    "    for line in file:\n",
    "        parts = line.strip().split(' ::: ')\n",
    "        if len(parts) == 4:\n",
    "            index, movie_name, genre, plot = parts\n",
    "            train_data.append({'index': index, 'movie_name': movie_name, 'genre': genre, 'plot': preprocess_text(plot)})\n",
    "\n",
    "train_df = pd.DataFrame(train_data)"
   ]
  },
  {
   "cell_type": "code",
   "execution_count": 11,
   "id": "4cd7ca10-0f3a-4de6-95e2-fed02163bfe6",
   "metadata": {},
   "outputs": [],
   "source": [
    "# Vectorize the plot summaries\n",
    "tfidf_vectorizer = TfidfVectorizer(stop_words='english', max_features=5000)\n",
    "X = tfidf_vectorizer.fit_transform(train_df['plot'])\n",
    "y = train_df['genre']"
   ]
  },
  {
   "cell_type": "code",
   "execution_count": 12,
   "id": "0d021145-8c1d-4987-a779-60ac253c1c85",
   "metadata": {},
   "outputs": [],
   "source": [
    "# Split the data into training and testing sets\n",
    "X_train, X_test, y_train, y_test = train_test_split(X, y, test_size=0.2, random_state=42)"
   ]
  },
  {
   "cell_type": "code",
   "execution_count": 13,
   "id": "224b2d82-e405-4928-9c84-c75b06b2ab42",
   "metadata": {},
   "outputs": [],
   "source": [
    "# Initialize models\n",
    "models = {\n",
    "    'Logistic Regression': LogisticRegression(max_iter=1000),\n",
    "    'Naive Bayes': MultinomialNB(),\n",
    "    #'Support Vector Machine': SVC(kernel='linear')\n",
    "}"
   ]
  },
  {
   "cell_type": "code",
   "execution_count": 14,
   "id": "fcaaf540-fb15-4bdc-b9b8-0908e9d83d9a",
   "metadata": {},
   "outputs": [
    {
     "name": "stdout",
     "output_type": "stream",
     "text": [
      "--- Logistic Regression ---\n",
      "Accuracy: 57.6040\n",
      "\n",
      "--- Naive Bayes ---\n",
      "Accuracy: 52.2088\n",
      "\n"
     ]
    }
   ],
   "source": [
    "# Train models and evaluate\n",
    "for model_name, model in models.items():\n",
    "    model.fit(X_train, y_train)\n",
    "    y_pred = model.predict(X_test)\n",
    "    print(f'--- {model_name} ---')\n",
    "    accuracy = accuracy_score(y_test, y_pred)\n",
    "    print(f\"Accuracy: {accuracy*100:.4f}\\n\")"
   ]
  },
  {
   "cell_type": "code",
   "execution_count": 15,
   "id": "0910f9f8-f8b6-43b2-9c63-c7d762aef7cf",
   "metadata": {},
   "outputs": [],
   "source": [
    "# Load and preprocess test data\n",
    "test_data = []\n",
    "with open('test_data.txt', 'r', encoding='utf-8') as file:\n",
    "    for line in file:\n",
    "        parts = line.strip().split(' ::: ')\n",
    "        if len(parts) == 3:\n",
    "            index, movie_name, plot = parts\n",
    "            test_data.append({'index': index, 'movie_name': movie_name, 'plot': preprocess_text(plot)})\n",
    "\n",
    "test_df = pd.DataFrame(test_data)"
   ]
  },
  {
   "cell_type": "code",
   "execution_count": 16,
   "id": "e13c5926-1328-4609-a646-4a33d22620c0",
   "metadata": {},
   "outputs": [],
   "source": [
    "# Vectorize the test data plots\n",
    "X_new = tfidf_vectorizer.transform(test_df['plot'])"
   ]
  },
  {
   "cell_type": "code",
   "execution_count": 17,
   "id": "af59c407-1ad6-4f59-a248-3c96bc0e3644",
   "metadata": {},
   "outputs": [],
   "source": [
    "# Predict genres using each model\n",
    "predictions = {}\n",
    "for model_name, model in models.items():\n",
    "    predictions[model_name] = model.predict(X_new)"
   ]
  },
  {
   "cell_type": "code",
   "execution_count": 18,
   "id": "4edd1cf8-da41-443e-85d0-c6c589c7b980",
   "metadata": {},
   "outputs": [],
   "source": [
    "# Compile results into a DataFrame\n",
    "results_df = test_df[['index', 'movie_name']].copy()\n",
    "for model_name in models.keys():\n",
    "    results_df[model_name] = predictions[model_name]"
   ]
  },
  {
   "cell_type": "code",
   "execution_count": 20,
   "id": "90677561-1e71-4ca8-bfe5-4d1c824863df",
   "metadata": {},
   "outputs": [],
   "source": [
    "# Save results to an Excel file\n",
    "results_df.to_excel('genre_predictions.xlsx', index=False)"
   ]
  },
  {
   "cell_type": "code",
   "execution_count": 21,
   "id": "53fc24bd-c99a-43ca-aa4d-b540aa27b763",
   "metadata": {},
   "outputs": [
    {
     "name": "stdout",
     "output_type": "stream",
     "text": [
      "  index                   movie_name Logistic Regression  Naive Bayes\n",
      "0     1         Edgar's Lunch (1998)               short        drama\n",
      "1     2     La guerra de papá (1977)               drama        drama\n",
      "2     3  Off the Beaten Track (2010)         documentary  documentary\n",
      "3     4       Meu Amigo Hindu (2015)               drama        drama\n",
      "4     5            Er nu zhai (1955)               drama        drama\n"
     ]
    }
   ],
   "source": [
    "# Display the first few rows of the DataFrame\n",
    "print(results_df.head())"
   ]
  }
 ],
 "metadata": {
  "kernelspec": {
   "display_name": "Python 3",
   "language": "python",
   "name": "python3"
  },
  "language_info": {
   "codemirror_mode": {
    "name": "ipython",
    "version": 3
   },
   "file_extension": ".py",
   "mimetype": "text/x-python",
   "name": "python",
   "nbconvert_exporter": "python",
   "pygments_lexer": "ipython3",
   "version": "3.12.4"
  }
 },
 "nbformat": 4,
 "nbformat_minor": 5
}
